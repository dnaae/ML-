{
 "cells": [
  {
   "cell_type": "code",
   "execution_count": 1,
   "id": "9755ecee",
   "metadata": {},
   "outputs": [
    {
     "name": "stdout",
     "output_type": "stream",
     "text": [
      "Requirement already satisfied: imbalanced-learn in c:\\users\\blank\\anaconda3\\lib\\site-packages (0.12.0)\n",
      "Requirement already satisfied: numpy>=1.17.3 in c:\\users\\blank\\anaconda3\\lib\\site-packages (from imbalanced-learn) (1.24.3)\n",
      "Requirement already satisfied: scipy>=1.5.0 in c:\\users\\blank\\anaconda3\\lib\\site-packages (from imbalanced-learn) (1.11.1)\n",
      "Requirement already satisfied: scikit-learn>=1.0.2 in c:\\users\\blank\\anaconda3\\lib\\site-packages (from imbalanced-learn) (1.4.1.post1)\n",
      "Requirement already satisfied: joblib>=1.1.1 in c:\\users\\blank\\anaconda3\\lib\\site-packages (from imbalanced-learn) (1.2.0)\n",
      "Requirement already satisfied: threadpoolctl>=2.0.0 in c:\\users\\blank\\anaconda3\\lib\\site-packages (from imbalanced-learn) (2.2.0)\n",
      "Note: you may need to restart the kernel to use updated packages.\n"
     ]
    }
   ],
   "source": [
    "pip install -U imbalanced-learn"
   ]
  },
  {
   "cell_type": "code",
   "execution_count": 1,
   "id": "dc847194",
   "metadata": {},
   "outputs": [],
   "source": [
    "from sklearn import svm\n",
    "import sklearn.model_selection as model_selection\n",
    "from sklearn.metrics import accuracy_score\n",
    "from sklearn.metrics import f1_score\n",
    "import pandas as pd\n",
    "import numpy as np\n",
    "from sklearn.preprocessing import LabelEncoder\n",
    "import matplotlib.pyplot as plt\n",
    "from sklearn.model_selection import GridSearchCV, StratifiedShuffleSplit\n",
    "from sklearn.svm import SVC\n",
    "from sklearn import metrics"
   ]
  },
  {
   "cell_type": "code",
   "execution_count": 2,
   "id": "55eb97c5",
   "metadata": {},
   "outputs": [
    {
     "name": "stdout",
     "output_type": "stream",
     "text": [
      "1.4.1.post1\n"
     ]
    }
   ],
   "source": [
    "import sklearn\n",
    "print(sklearn.__version__)"
   ]
  },
  {
   "cell_type": "code",
   "execution_count": 3,
   "id": "0314a1f1",
   "metadata": {},
   "outputs": [],
   "source": [
    "data = pd.read_csv(\"merged.csv\")\n",
    "#data"
   ]
  },
  {
   "cell_type": "code",
   "execution_count": 4,
   "id": "46b29d14",
   "metadata": {},
   "outputs": [],
   "source": [
    "X = data.drop(columns = ['msi_status', 'Unnamed: 0', 'Unnamed: 0.1'])\n",
    "y = data['msi_status']\n",
    "le = LabelEncoder()\n",
    "X = X.apply(le.fit_transform)\n",
    "#Test and train set\n",
    "X_train, X_test, y_train, y_test = model_selection.train_test_split(X, y, train_size=0.80, test_size=0.20, random_state=101)\n",
    "#Train set split into train and validation set\n",
    "X_train, X_val, y_train, y_val = model_selection.train_test_split(X_train, y_train, test_size=0.25, random_state=101) # 0.25 x 0.8 = 0.2"
   ]
  },
  {
   "cell_type": "code",
   "execution_count": 5,
   "id": "bbbb4e37",
   "metadata": {},
   "outputs": [
    {
     "name": "stdout",
     "output_type": "stream",
     "text": [
      "Shape of original training data: (261, 9438) (261,)\n",
      "Shape of oversampled training data: (507, 9438) (507,)\n"
     ]
    }
   ],
   "source": [
    "#Oversampling\n",
    "from imblearn.over_sampling import RandomOverSampler\n",
    "\n",
    "# Instantiate the RandomOverSampler\n",
    "oversampler = RandomOverSampler(random_state=42)\n",
    "\n",
    "# Resample the training data\n",
    "X_train_oversampled, y_train_oversampled = oversampler.fit_resample(X_train, y_train)\n",
    "\n",
    "# Print the shape of the resampled data to see the effect\n",
    "print(\"Shape of original training data:\", X_train.shape, y_train.shape)\n",
    "print(\"Shape of oversampled training data:\", X_train_oversampled.shape, y_train_oversampled.shape)"
   ]
  },
  {
   "cell_type": "code",
   "execution_count": 6,
   "id": "ad25d86a",
   "metadata": {},
   "outputs": [],
   "source": [
    "#TRAINING\n",
    "rbf = svm.SVC(kernel='rbf', gamma=0.5, C=0.1).fit(X_train, y_train) #C-regularization param, gamma: kernel coefficient\n",
    "poly = svm.SVC(kernel='poly', degree=1, C=1).fit(X_train, y_train) #degree of polynomial kernel function\n",
    "#oversampled classifiers\n",
    "over_rbf = svm.SVC(kernel='rbf', gamma=0.5, C=1.5).fit(X_train_oversampled, y_train_oversampled) #C-regularization param, gamma: kernel coefficient\n",
    "over_poly = svm.SVC(kernel='poly', degree=1, C=1).fit(X_train_oversampled, y_train_oversampled) #degree of polynomial kernel function"
   ]
  },
  {
   "cell_type": "code",
   "execution_count": 7,
   "id": "6a2aa4f2",
   "metadata": {},
   "outputs": [],
   "source": [
    "#Prediction\n",
    "#prediction for all kernel types\n",
    "poly_pred = poly.predict(X_test)\n",
    "rbf_pred = rbf.predict(X_test)\n",
    "#prediction for oversampled data\n",
    "over_poly_pred = over_poly.predict(X_test)\n",
    "over_rbf_pred = over_rbf.predict(X_test)"
   ]
  },
  {
   "cell_type": "code",
   "execution_count": 8,
   "id": "e22e9602",
   "metadata": {},
   "outputs": [
    {
     "name": "stdout",
     "output_type": "stream",
     "text": [
      "Classification report for polinomial kernel\n",
      "              precision    recall  f1-score   support\n",
      "\n",
      "       MSI-H       0.78      1.00      0.88        14\n",
      "       MSI-L       0.07      0.18      0.10        11\n",
      "         MSS       0.85      0.55      0.67        62\n",
      "\n",
      "    accuracy                           0.57        87\n",
      "   macro avg       0.57      0.58      0.55        87\n",
      "weighted avg       0.74      0.57      0.63        87\n",
      "\n",
      "Classification report for rbf kernel\n",
      "              precision    recall  f1-score   support\n",
      "\n",
      "       MSI-H       0.00      0.00      0.00        14\n",
      "       MSI-L       0.00      0.00      0.00        11\n",
      "         MSS       0.71      1.00      0.83        62\n",
      "\n",
      "    accuracy                           0.71        87\n",
      "   macro avg       0.24      0.33      0.28        87\n",
      "weighted avg       0.51      0.71      0.59        87\n",
      "\n"
     ]
    },
    {
     "name": "stderr",
     "output_type": "stream",
     "text": [
      "C:\\Users\\blank\\anaconda3\\Lib\\site-packages\\sklearn\\metrics\\_classification.py:1509: UndefinedMetricWarning: Precision is ill-defined and being set to 0.0 in labels with no predicted samples. Use `zero_division` parameter to control this behavior.\n",
      "  _warn_prf(average, modifier, f\"{metric.capitalize()} is\", len(result))\n",
      "C:\\Users\\blank\\anaconda3\\Lib\\site-packages\\sklearn\\metrics\\_classification.py:1509: UndefinedMetricWarning: Precision is ill-defined and being set to 0.0 in labels with no predicted samples. Use `zero_division` parameter to control this behavior.\n",
      "  _warn_prf(average, modifier, f\"{metric.capitalize()} is\", len(result))\n",
      "C:\\Users\\blank\\anaconda3\\Lib\\site-packages\\sklearn\\metrics\\_classification.py:1509: UndefinedMetricWarning: Precision is ill-defined and being set to 0.0 in labels with no predicted samples. Use `zero_division` parameter to control this behavior.\n",
      "  _warn_prf(average, modifier, f\"{metric.capitalize()} is\", len(result))\n"
     ]
    }
   ],
   "source": [
    "#Classification report\n",
    "print(\"Classification report for polinomial kernel\")\n",
    "print(metrics.classification_report(y_test, over_poly_pred))\n",
    "print(\"Classification report for rbf kernel\")\n",
    "print(metrics.classification_report(y_test, over_rbf_pred))"
   ]
  },
  {
   "cell_type": "code",
   "execution_count": null,
   "id": "aa15ec34",
   "metadata": {},
   "outputs": [],
   "source": []
  },
  {
   "cell_type": "code",
   "execution_count": 9,
   "id": "aac4859d",
   "metadata": {},
   "outputs": [
    {
     "name": "stdout",
     "output_type": "stream",
     "text": [
      "[1.0, 1.5, 2.0, 2.5, 3.0, 3.5, 4.0, 4.5, 5.0, 5.5, 6.0, 6.5, 7.0, 7.5, 8.0, 8.5, 9.0, 9.5]\n"
     ]
    }
   ],
   "source": [
    "#C value search for rbf and poly kernel\n",
    "Cvalues = [x / 10.0 for x in range(10, 100, 5)]\n",
    "print(Cvalues)\n",
    "\n",
    "listofaccuracypoly = []\n",
    "listofaccuracyrbf = []\n",
    "for i in Cvalues:\n",
    "    model = svm.SVC(kernel='poly', degree=1, C=i).fit(X_train_oversampled, y_train_oversampled)\n",
    "    prediction = model.predict(X_test)\n",
    "    accuracy = accuracy_score(y_test, prediction)\n",
    "    listofaccuracypoly.append(accuracy)\n",
    "    #print({\"Accuracy:\":accuracy, \"C value: \":i})\n",
    "\n",
    "for i in Cvalues:\n",
    "    model = svm.SVC(kernel='rbf', degree=1, C=i).fit(X_train_oversampled, y_train_oversampled)\n",
    "    prediction = model.predict(X_test)\n",
    "    accuracy = accuracy_score(y_test, prediction)\n",
    "    listofaccuracyrbf.append(accuracy)\n",
    "\n",
    "\n",
    "#plt.plot(Cvalues, listofaccuracy)"
   ]
  },
  {
   "cell_type": "code",
   "execution_count": 10,
   "id": "937e0eb8",
   "metadata": {},
   "outputs": [
    {
     "data": {
      "image/png": "[encoded data removed]",
      "text/plain": [
       "<Figure size 640x480 with 1 Axes>"
      ]
     },
     "metadata": {},
     "output_type": "display_data"
    }
   ],
   "source": [
    "plt.plot(Cvalues, listofaccuracyrbf)\n",
    "plt.plot(Cvalues, listofaccuracypoly)\n",
    "plt.xlabel(\"C values\")\n",
    "plt.ylabel(\"Accuracy\")\n",
    "plt.title(\"C parameter search for SVM\")\n",
    "plt.legend(['RBF', \"Polynomial\"])\n",
    "\n",
    "#plt.savefig('C_parameter_search_for_SVM.png')\n",
    "plt.show()"
   ]
  },
  {
   "cell_type": "code",
   "execution_count": null,
   "id": "0d6947cc",
   "metadata": {},
   "outputs": [],
   "source": [
    "#looking for best hyperparameters RBF SVM, C and gamma\n",
    "from sklearn.model_selection import GridSearchCV\n",
    "from sklearn.svm import SVC\n",
    "\n",
    "# Define the parameter grid\n",
    "param_grid = {\n",
    "    'C': [0.1, 1, 10, 100, 1000],\n",
    "    'gamma': [1, 0.1, 0.01, 0.001, 0.0001]\n",
    "}\n",
    "\n",
    "# Create an SVM classifier with polynomial kernel\n",
    "svm_classifier = SVC(kernel='rbf')\n",
    "\n",
    "# Perform grid search with cross-validation\n",
    "grid_search = GridSearchCV(svm_classifier, param_grid, cv=5, scoring='accuracy')\n",
    "grid_search.fit(X_train_oversampled, y_train_oversampled)\n",
    "\n",
    "# Get the best hyperparameters\n",
    "best_params = grid_search.best_params_\n",
    "\n",
    "# Train the model with the best hyperparameters\n",
    "best_svm_model = SVC(kernel='rbf', **best_params)\n",
    "best_svm_model.fit(X_train_oversampled, y_train_oversampled)\n",
    "\n",
    "# Evaluate the model\n",
    "accuracy = best_svm_model.score(X_test, y_test)"
   ]
  },
  {
   "cell_type": "code",
   "execution_count": null,
   "id": "12573a04",
   "metadata": {},
   "outputs": [],
   "source": [
    "print(accuracy)\n",
    "print(best_params)"
   ]
  },
  {
   "cell_type": "code",
   "execution_count": 13,
   "id": "74db1671",
   "metadata": {},
   "outputs": [
    {
     "name": "stdout",
     "output_type": "stream",
     "text": [
      "              precision    recall  f1-score   support\n",
      "\n",
      "       MSI-H       0.00      0.00      0.00        14\n",
      "       MSI-L       0.00      0.00      0.00        11\n",
      "         MSS       0.71      1.00      0.83        62\n",
      "\n",
      "    accuracy                           0.71        87\n",
      "   macro avg       0.24      0.33      0.28        87\n",
      "weighted avg       0.51      0.71      0.59        87\n",
      "\n"
     ]
    },
    {
     "name": "stderr",
     "output_type": "stream",
     "text": [
      "C:\\Users\\blank\\anaconda3\\Lib\\site-packages\\sklearn\\metrics\\_classification.py:1509: UndefinedMetricWarning: Precision is ill-defined and being set to 0.0 in labels with no predicted samples. Use `zero_division` parameter to control this behavior.\n",
      "  _warn_prf(average, modifier, f\"{metric.capitalize()} is\", len(result))\n",
      "C:\\Users\\blank\\anaconda3\\Lib\\site-packages\\sklearn\\metrics\\_classification.py:1509: UndefinedMetricWarning: Precision is ill-defined and being set to 0.0 in labels with no predicted samples. Use `zero_division` parameter to control this behavior.\n",
      "  _warn_prf(average, modifier, f\"{metric.capitalize()} is\", len(result))\n",
      "C:\\Users\\blank\\anaconda3\\Lib\\site-packages\\sklearn\\metrics\\_classification.py:1509: UndefinedMetricWarning: Precision is ill-defined and being set to 0.0 in labels with no predicted samples. Use `zero_division` parameter to control this behavior.\n",
      "  _warn_prf(average, modifier, f\"{metric.capitalize()} is\", len(result))\n"
     ]
    }
   ],
   "source": [
    "#Prediction using C 1 and gamma 1 for rbf kernel\n",
    "grid_prediction = grid_search.predict(X_test)\n",
    "print(\"Classification report for RBF kernel after grid search\")\n",
    "print(metrics.classification_report(y_test, grid_prediction))"
   ]
  },
  {
   "cell_type": "code",
   "execution_count": null,
   "id": "e71a657b",
   "metadata": {},
   "outputs": [],
   "source": [
    "#looking for best hyperparameters Polynomial kernel SVM, C and gamma\n",
    "from sklearn.model_selection import GridSearchCV\n",
    "from sklearn.svm import SVC\n",
    "\n",
    "# Define the parameter grid\n",
    "param_grid = {\n",
    "    'C': [0.1, 1, 10],\n",
    "    'gamma': [1, 0.1, 0.01, 0.001, 0.0001],\n",
    "    'degree': [1, 2, 3, 4, 5]\n",
    "}\n",
    "\n",
    "# Create an SVM classifier with polynomial kernel\n",
    "svm_classifier = SVC(kernel='poly')\n",
    "\n",
    "# Perform grid search with cross-validation\n",
    "grid_search = GridSearchCV(svm_classifier, param_grid, cv=5, scoring='accuracy')\n",
    "grid_search.fit(X_train_oversampled, y_train_oversampled)\n",
    "\n",
    "# Get the best hyperparameters\n",
    "best_params = grid_search.best_params_\n",
    "\n",
    "# Train the model with the best hyperparameters\n",
    "best_svm_model = SVC(kernel='poly', **best_params)\n",
    "best_svm_model.fit(X_train_oversampled, y_train_oversampled)\n",
    "\n",
    "# Evaluate the model\n",
    "accuracy = best_svm_model.score(X_test, y_test)"
   ]
  },
  {
   "cell_type": "code",
   "execution_count": null,
   "id": "e89486fb",
   "metadata": {},
   "outputs": [],
   "source": [
    "print(accuracy)\n",
    "print(best_params)"
   ]
  },
  {
   "cell_type": "code",
   "execution_count": null,
   "id": "d37ba553",
   "metadata": {},
   "outputs": [],
   "source": [
    "#Prediction using \n",
    "grid_prediction = grid_search.predict(X_test)\n",
    "print(\"Classification report for Polynomial kernel after grid search\")\n",
    "print(metrics.classification_report(y_test, grid_prediction))"
   ]
  },
  {
   "cell_type": "code",
   "execution_count": null,
   "id": "4e89cf99",
   "metadata": {},
   "outputs": [],
   "source": [
    "#prediction for all kernel types\n",
    "poly_pred = poly.predict(X_test)\n",
    "rbf_pred = rbf.predict(X_test)\n",
    "#prediction for oversampled data\n",
    "over_poly_pred = over_poly.predict(X_test)\n",
    "over_rbf_pred = over_rbf.predict(X_test)"
   ]
  },
  {
   "cell_type": "code",
   "execution_count": 83,
   "id": "0944c048",
   "metadata": {},
   "outputs": [
    {
     "name": "stdout",
     "output_type": "stream",
     "text": [
      "Accuracy (Polynomial Kernel):  82.76\n",
      "F1 (Polynomial Kernel):  76.98\n",
      "Accuracy (RBF Kernel):  71.26\n",
      "F1 (RBF Kernel):  59.31\n"
     ]
    }
   ],
   "source": [
    "#the accuracy and f1 scores for SVM with Polynomial kernel\n",
    "#For the f1 score, it calculates the harmonic mean between\n",
    "#precision and recall, and both depend on the false positive and false negative.\n",
    "#So, it’s useful to calculate the f1 score when the data set isn’t balanced.\n",
    "#For the accuracy score, it shows the percentage of the true positive and true negative to all data points.\n",
    "#So, it’s useful when the data set is balanced.\n",
    "poly_accuracy = accuracy_score(y_test, poly_pred)\n",
    "poly_f1 = f1_score(y_test, poly_pred, average='weighted')\n",
    "print('Accuracy (Polynomial Kernel): ', \"%.2f\" % (poly_accuracy*100))\n",
    "print('F1 (Polynomial Kernel): ', \"%.2f\" % (poly_f1*100))\n",
    "rbf_accuracy = accuracy_score(y_test, rbf_pred)\n",
    "rbf_f1 = f1_score(y_test, rbf_pred, average='weighted')\n",
    "print('Accuracy (RBF Kernel): ', \"%.2f\" % (rbf_accuracy*100))\n",
    "print('F1 (RBF Kernel): ', \"%.2f\" % (rbf_f1*100))"
   ]
  },
  {
   "cell_type": "code",
   "execution_count": 84,
   "id": "d21ea50e",
   "metadata": {},
   "outputs": [
    {
     "name": "stdout",
     "output_type": "stream",
     "text": [
      "Accuracy (Polynomial Kernel):  57.47\n",
      "F1 (Polynomial Kernel):  62.85\n",
      "Accuracy (RBF Kernel):  71.26\n",
      "F1 (RBF Kernel):  59.31\n"
     ]
    }
   ],
   "source": [
    "#Accuracy and F1 for oversampled data\n",
    "poly_accuracy = accuracy_score(y_test, over_poly_pred)\n",
    "poly_f1 = f1_score(y_test, over_poly_pred, average='weighted')\n",
    "print('Accuracy (Polynomial Kernel): ', \"%.2f\" % (poly_accuracy*100))\n",
    "print('F1 (Polynomial Kernel): ', \"%.2f\" % (poly_f1*100))\n",
    "rbf_accuracy = accuracy_score(y_test, over_rbf_pred)\n",
    "rbf_f1 = f1_score(y_test, over_rbf_pred, average='weighted')\n",
    "print('Accuracy (RBF Kernel): ', \"%.2f\" % (rbf_accuracy*100))\n",
    "print('F1 (RBF Kernel): ', \"%.2f\" % (rbf_f1*100))"
   ]
  },
  {
   "cell_type": "code",
   "execution_count": 89,
   "id": "5970c33d",
   "metadata": {},
   "outputs": [
    {
     "data": {
      "image/png": "[encoded data removed]",
      "text/plain": [
       "<Figure size 640x480 with 2 Axes>"
      ]
     },
     "metadata": {},
     "output_type": "display_data"
    }
   ],
   "source": [
    "#Confusion mx for polynomial kernel\n",
    "conf_mx = metrics.confusion_matrix(y_test, over_rbf_pred)\n",
    "cm_display = metrics.ConfusionMatrixDisplay(confusion_matrix = conf_mx)\n",
    "cm_display.plot()\n",
    "plt.title(\"RBF kernel confusion matrix\")\n",
    "\n",
    "#plt.savefig('RBF kernel confusion matrix.png')\n",
    "plt.show()"
   ]
  },
  {
   "cell_type": "code",
   "execution_count": 88,
   "id": "f16b5c70",
   "metadata": {},
   "outputs": [
    {
     "data": {
      "image/png": "[encoded data removed]",
      "text/plain": [
       "<Figure size 640x480 with 2 Axes>"
      ]
     },
     "metadata": {},
     "output_type": "display_data"
    }
   ],
   "source": [
    "#confusion mx for oversampled \n",
    "conf_mx = metrics.confusion_matrix(y_test, over_poly_pred)\n",
    "cm_display = metrics.ConfusionMatrixDisplay(confusion_matrix = conf_mx)\n",
    "cm_display.plot()\n",
    "\n",
    "plt.title(\"Polynomial kernel confusion matrix\")\n",
    "#plt.savefig('Polynomial kernel confusion matrix.png')\n",
    "plt.show()"
   ]
  },
  {
   "cell_type": "code",
   "execution_count": 125,
   "id": "cdfaced0",
   "metadata": {},
   "outputs": [
    {
     "name": "stderr",
     "output_type": "stream",
     "text": [
      "C:\\Users\\blank\\anaconda3\\Lib\\site-packages\\sklearn\\metrics\\_classification.py:1469: UndefinedMetricWarning: Precision is ill-defined and being set to 0.0 in labels with no predicted samples. Use `zero_division` parameter to control this behavior.\n",
      "  _warn_prf(average, modifier, msg_start, len(result))\n",
      "C:\\Users\\blank\\anaconda3\\Lib\\site-packages\\sklearn\\metrics\\_classification.py:1521: UserWarning: Note that pos_label (set to 0) is ignored when average != 'binary' (got 'weighted'). You may use labels=[pos_label] to specify a single positive class.\n",
      "  warnings.warn(\n"
     ]
    }
   ],
   "source": [
    "#metrics for polynomial kernel svm\n",
    "Accuracy = metrics.accuracy_score(y_test, poly_pred)\n",
    "Validation = metrics.accuracy_score(y_val, poly_pred)\n",
    "Precision = metrics.precision_score(y_test, poly_pred, average = 'weighted')\n",
    "Sensitivity_recall = metrics.recall_score(y_test, poly_pred, average = 'weighted')\n",
    "Specificity = metrics.recall_score(y_test, poly_pred, average = 'weighted', pos_label=0)\n",
    "F1_score = metrics.f1_score(y_test, poly_pred, average = 'weighted')\n",
    "#AUC = metrics.roc_auc_score(y_test, poly_pred, average = 'weighted')\n",
    "#print({\"Accuracy\":Accuracy,\"Precision\":Precision,\"Sensitivity_recall\":Sensitivity_recall,\"Specificity\":Specificity,\"F1_score\":F1_score, \"AUC\":AUC})"
   ]
  },
  {
   "cell_type": "code",
   "execution_count": 126,
   "id": "8752560a",
   "metadata": {},
   "outputs": [
    {
     "name": "stdout",
     "output_type": "stream",
     "text": [
      "{'Accuracy': 0.8390804597701149, 'Validation': 0.6206896551724138}\n"
     ]
    }
   ],
   "source": [
    "print({'Accuracy':Accuracy, 'Validation':Validation})"
   ]
  },
  {
   "cell_type": "code",
   "execution_count": null,
   "id": "6e1a4f9f",
   "metadata": {},
   "outputs": [],
   "source": []
  }
 ],
 "metadata": {
  "kernelspec": {
   "display_name": "Python 3 (ipykernel)",
   "language": "python",
   "name": "python3"
  },
  "language_info": {
   "codemirror_mode": {
    "name": "ipython",
    "version": 3
   },
   "file_extension": ".py",
   "mimetype": "text/x-python",
   "name": "python",
   "nbconvert_exporter": "python",
   "pygments_lexer": "ipython3",
   "version": "3.11.5"
  }
 },
 "nbformat": 4,
 "nbformat_minor": 5
}
