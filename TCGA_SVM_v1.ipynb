{
 "cells": [
  {
   "cell_type": "code",
   "execution_count": 1,
   "id": "9755ecee",
   "metadata": {},
   "outputs": [
    {
     "name": "stdout",
     "output_type": "stream",
     "text": [
      "Requirement already satisfied: imbalanced-learn in c:\\users\\blank\\anaconda3\\lib\\site-packages (0.12.0)\n",
      "Requirement already satisfied: numpy>=1.17.3 in c:\\users\\blank\\anaconda3\\lib\\site-packages (from imbalanced-learn) (1.24.3)\n",
      "Requirement already satisfied: scipy>=1.5.0 in c:\\users\\blank\\anaconda3\\lib\\site-packages (from imbalanced-learn) (1.11.1)\n",
      "Requirement already satisfied: scikit-learn>=1.0.2 in c:\\users\\blank\\anaconda3\\lib\\site-packages (from imbalanced-learn) (1.4.1.post1)\n",
      "Requirement already satisfied: joblib>=1.1.1 in c:\\users\\blank\\anaconda3\\lib\\site-packages (from imbalanced-learn) (1.2.0)\n",
      "Requirement already satisfied: threadpoolctl>=2.0.0 in c:\\users\\blank\\anaconda3\\lib\\site-packages (from imbalanced-learn) (2.2.0)\n",
      "Note: you may need to restart the kernel to use updated packages.\n"
     ]
    }
   ],
   "source": [
    "pip install -U imbalanced-learn"
   ]
  },
  {
   "cell_type": "code",
   "execution_count": 2,
   "id": "dc847194",
   "metadata": {},
   "outputs": [],
   "source": [
    "from sklearn import svm\n",
    "import sklearn.model_selection as model_selection\n",
    "from sklearn.metrics import accuracy_score\n",
    "from sklearn.metrics import f1_score\n",
    "import pandas as pd\n",
    "import numpy as np\n",
    "from sklearn.preprocessing import LabelEncoder\n",
    "import matplotlib.pyplot as plt\n",
    "from sklearn.model_selection import GridSearchCV, StratifiedShuffleSplit\n",
    "from sklearn.svm import SVC\n",
    "from sklearn import metrics"
   ]
  },
  {
   "cell_type": "code",
   "execution_count": 3,
   "id": "55eb97c5",
   "metadata": {},
   "outputs": [
    {
     "name": "stdout",
     "output_type": "stream",
     "text": [
      "1.4.1.post1\n"
     ]
    }
   ],
   "source": [
    "import sklearn\n",
    "print(sklearn.__version__)"
   ]
  },
  {
   "cell_type": "code",
   "execution_count": 27,
   "id": "0314a1f1",
   "metadata": {},
   "outputs": [
    {
     "data": {
      "text/html": [
       "<div>\n",
       "<style scoped>\n",
       "    .dataframe tbody tr th:only-of-type {\n",
       "        vertical-align: middle;\n",
       "    }\n",
       "\n",
       "    .dataframe tbody tr th {\n",
       "        vertical-align: top;\n",
       "    }\n",
       "\n",
       "    .dataframe thead th {\n",
       "        text-align: right;\n",
       "    }\n",
       "</style>\n",
       "<table border=\"1\" class=\"dataframe\">\n",
       "  <thead>\n",
       "    <tr style=\"text-align: right;\">\n",
       "      <th></th>\n",
       "      <th>Unnamed: 0.1</th>\n",
       "      <th>Unnamed: 0</th>\n",
       "      <th>TBL</th>\n",
       "      <th>msi_status</th>\n",
       "      <th>fraction_genome_altered</th>\n",
       "      <th>aneuploidy_score</th>\n",
       "      <th>TMB</th>\n",
       "      <th>TP53</th>\n",
       "      <th>KRAS</th>\n",
       "      <th>BRAF</th>\n",
       "      <th>...</th>\n",
       "      <th>TUBGCP5</th>\n",
       "      <th>ZNF37BP</th>\n",
       "      <th>SNRPN</th>\n",
       "      <th>ELMOD3</th>\n",
       "      <th>MFAP3</th>\n",
       "      <th>RWDD2B</th>\n",
       "      <th>TTC5</th>\n",
       "      <th>PDLIM2</th>\n",
       "      <th>BLM</th>\n",
       "      <th>DDX59</th>\n",
       "    </tr>\n",
       "  </thead>\n",
       "  <tbody>\n",
       "    <tr>\n",
       "      <th>0</th>\n",
       "      <td>0</td>\n",
       "      <td>TCGA-3L-AA1B-01A</td>\n",
       "      <td>19</td>\n",
       "      <td>MSS</td>\n",
       "      <td>0.114119</td>\n",
       "      <td>6</td>\n",
       "      <td>118</td>\n",
       "      <td>WT</td>\n",
       "      <td>WT</td>\n",
       "      <td>SNV</td>\n",
       "      <td>...</td>\n",
       "      <td>1118.0</td>\n",
       "      <td>894.0</td>\n",
       "      <td>357.0</td>\n",
       "      <td>1180.0</td>\n",
       "      <td>605.0</td>\n",
       "      <td>662.0</td>\n",
       "      <td>560.0</td>\n",
       "      <td>561.0</td>\n",
       "      <td>478.0</td>\n",
       "      <td>703.0</td>\n",
       "    </tr>\n",
       "    <tr>\n",
       "      <th>1</th>\n",
       "      <td>1</td>\n",
       "      <td>TCGA-4N-A93T-01A</td>\n",
       "      <td>38</td>\n",
       "      <td>MSS</td>\n",
       "      <td>0.311631</td>\n",
       "      <td>12</td>\n",
       "      <td>81</td>\n",
       "      <td>SNV</td>\n",
       "      <td>SNV</td>\n",
       "      <td>WT</td>\n",
       "      <td>...</td>\n",
       "      <td>359.0</td>\n",
       "      <td>2045.0</td>\n",
       "      <td>88.0</td>\n",
       "      <td>1154.0</td>\n",
       "      <td>213.0</td>\n",
       "      <td>695.0</td>\n",
       "      <td>282.0</td>\n",
       "      <td>429.0</td>\n",
       "      <td>204.0</td>\n",
       "      <td>620.0</td>\n",
       "    </tr>\n",
       "    <tr>\n",
       "      <th>2</th>\n",
       "      <td>2</td>\n",
       "      <td>TCGA-5M-AAT4-01A</td>\n",
       "      <td>87</td>\n",
       "      <td>MSS</td>\n",
       "      <td>0.422921</td>\n",
       "      <td>13</td>\n",
       "      <td>159</td>\n",
       "      <td>SNV</td>\n",
       "      <td>SNV</td>\n",
       "      <td>WT</td>\n",
       "      <td>...</td>\n",
       "      <td>662.0</td>\n",
       "      <td>1135.0</td>\n",
       "      <td>956.0</td>\n",
       "      <td>1078.0</td>\n",
       "      <td>550.0</td>\n",
       "      <td>620.0</td>\n",
       "      <td>743.0</td>\n",
       "      <td>559.0</td>\n",
       "      <td>761.0</td>\n",
       "      <td>513.0</td>\n",
       "    </tr>\n",
       "    <tr>\n",
       "      <th>3</th>\n",
       "      <td>3</td>\n",
       "      <td>TCGA-5M-AAT5-01A</td>\n",
       "      <td>28</td>\n",
       "      <td>MSI-L</td>\n",
       "      <td>0.357734</td>\n",
       "      <td>12</td>\n",
       "      <td>72</td>\n",
       "      <td>SNV</td>\n",
       "      <td>WT</td>\n",
       "      <td>WT</td>\n",
       "      <td>...</td>\n",
       "      <td>544.0</td>\n",
       "      <td>691.0</td>\n",
       "      <td>783.0</td>\n",
       "      <td>501.0</td>\n",
       "      <td>537.0</td>\n",
       "      <td>286.0</td>\n",
       "      <td>298.0</td>\n",
       "      <td>286.0</td>\n",
       "      <td>1055.0</td>\n",
       "      <td>618.0</td>\n",
       "    </tr>\n",
       "    <tr>\n",
       "      <th>4</th>\n",
       "      <td>4</td>\n",
       "      <td>TCGA-5M-AAT6-01A</td>\n",
       "      <td>3</td>\n",
       "      <td>MSI-H</td>\n",
       "      <td>0.049432</td>\n",
       "      <td>2</td>\n",
       "      <td>1828</td>\n",
       "      <td>WT</td>\n",
       "      <td>SNV</td>\n",
       "      <td>WT</td>\n",
       "      <td>...</td>\n",
       "      <td>439.0</td>\n",
       "      <td>415.0</td>\n",
       "      <td>394.0</td>\n",
       "      <td>552.0</td>\n",
       "      <td>412.0</td>\n",
       "      <td>493.0</td>\n",
       "      <td>358.0</td>\n",
       "      <td>478.0</td>\n",
       "      <td>525.0</td>\n",
       "      <td>291.0</td>\n",
       "    </tr>\n",
       "    <tr>\n",
       "      <th>...</th>\n",
       "      <td>...</td>\n",
       "      <td>...</td>\n",
       "      <td>...</td>\n",
       "      <td>...</td>\n",
       "      <td>...</td>\n",
       "      <td>...</td>\n",
       "      <td>...</td>\n",
       "      <td>...</td>\n",
       "      <td>...</td>\n",
       "      <td>...</td>\n",
       "      <td>...</td>\n",
       "      <td>...</td>\n",
       "      <td>...</td>\n",
       "      <td>...</td>\n",
       "      <td>...</td>\n",
       "      <td>...</td>\n",
       "      <td>...</td>\n",
       "      <td>...</td>\n",
       "      <td>...</td>\n",
       "      <td>...</td>\n",
       "      <td>...</td>\n",
       "    </tr>\n",
       "    <tr>\n",
       "      <th>430</th>\n",
       "      <td>430</td>\n",
       "      <td>TCGA-QL-A97D-01A</td>\n",
       "      <td>104</td>\n",
       "      <td>MSS</td>\n",
       "      <td>0.309643</td>\n",
       "      <td>9</td>\n",
       "      <td>209</td>\n",
       "      <td>SNV</td>\n",
       "      <td>SNV</td>\n",
       "      <td>WT</td>\n",
       "      <td>...</td>\n",
       "      <td>434.0</td>\n",
       "      <td>1883.0</td>\n",
       "      <td>158.0</td>\n",
       "      <td>598.0</td>\n",
       "      <td>494.0</td>\n",
       "      <td>497.0</td>\n",
       "      <td>519.0</td>\n",
       "      <td>705.0</td>\n",
       "      <td>557.0</td>\n",
       "      <td>509.0</td>\n",
       "    </tr>\n",
       "    <tr>\n",
       "      <th>431</th>\n",
       "      <td>431</td>\n",
       "      <td>TCGA-RU-A8FL-01A</td>\n",
       "      <td>105</td>\n",
       "      <td>MSS</td>\n",
       "      <td>0.270808</td>\n",
       "      <td>10</td>\n",
       "      <td>115</td>\n",
       "      <td>SNV</td>\n",
       "      <td>WT</td>\n",
       "      <td>WT</td>\n",
       "      <td>...</td>\n",
       "      <td>390.0</td>\n",
       "      <td>650.0</td>\n",
       "      <td>27.0</td>\n",
       "      <td>753.0</td>\n",
       "      <td>182.0</td>\n",
       "      <td>796.0</td>\n",
       "      <td>507.0</td>\n",
       "      <td>104.0</td>\n",
       "      <td>592.0</td>\n",
       "      <td>786.0</td>\n",
       "    </tr>\n",
       "    <tr>\n",
       "      <th>432</th>\n",
       "      <td>432</td>\n",
       "      <td>TCGA-SS-A7HO-01A</td>\n",
       "      <td>82</td>\n",
       "      <td>MSS</td>\n",
       "      <td>0.408573</td>\n",
       "      <td>15</td>\n",
       "      <td>143</td>\n",
       "      <td>SNV</td>\n",
       "      <td>SNV</td>\n",
       "      <td>WT</td>\n",
       "      <td>...</td>\n",
       "      <td>822.0</td>\n",
       "      <td>1040.0</td>\n",
       "      <td>91.0</td>\n",
       "      <td>1135.0</td>\n",
       "      <td>1120.0</td>\n",
       "      <td>522.0</td>\n",
       "      <td>617.0</td>\n",
       "      <td>581.0</td>\n",
       "      <td>1374.0</td>\n",
       "      <td>641.0</td>\n",
       "    </tr>\n",
       "    <tr>\n",
       "      <th>433</th>\n",
       "      <td>433</td>\n",
       "      <td>TCGA-T9-A92H-01A</td>\n",
       "      <td>115</td>\n",
       "      <td>MSS</td>\n",
       "      <td>0.178141</td>\n",
       "      <td>6</td>\n",
       "      <td>150</td>\n",
       "      <td>SNV</td>\n",
       "      <td>WT</td>\n",
       "      <td>WT</td>\n",
       "      <td>...</td>\n",
       "      <td>533.0</td>\n",
       "      <td>739.0</td>\n",
       "      <td>86.0</td>\n",
       "      <td>804.0</td>\n",
       "      <td>618.0</td>\n",
       "      <td>881.0</td>\n",
       "      <td>390.0</td>\n",
       "      <td>495.0</td>\n",
       "      <td>660.0</td>\n",
       "      <td>443.0</td>\n",
       "    </tr>\n",
       "    <tr>\n",
       "      <th>434</th>\n",
       "      <td>434</td>\n",
       "      <td>TCGA-WS-AB45-01A</td>\n",
       "      <td>28</td>\n",
       "      <td>MSI-H</td>\n",
       "      <td>0.012669</td>\n",
       "      <td>0</td>\n",
       "      <td>2437</td>\n",
       "      <td>SNV</td>\n",
       "      <td>WT</td>\n",
       "      <td>WT</td>\n",
       "      <td>...</td>\n",
       "      <td>924.0</td>\n",
       "      <td>625.0</td>\n",
       "      <td>665.0</td>\n",
       "      <td>661.0</td>\n",
       "      <td>2778.0</td>\n",
       "      <td>771.0</td>\n",
       "      <td>705.0</td>\n",
       "      <td>1595.0</td>\n",
       "      <td>503.0</td>\n",
       "      <td>991.0</td>\n",
       "    </tr>\n",
       "  </tbody>\n",
       "</table>\n",
       "<p>435 rows × 9441 columns</p>\n",
       "</div>"
      ],
      "text/plain": [
       "     Unnamed: 0.1        Unnamed: 0  TBL msi_status  fraction_genome_altered  \\\n",
       "0               0  TCGA-3L-AA1B-01A   19        MSS                 0.114119   \n",
       "1               1  TCGA-4N-A93T-01A   38        MSS                 0.311631   \n",
       "2               2  TCGA-5M-AAT4-01A   87        MSS                 0.422921   \n",
       "3               3  TCGA-5M-AAT5-01A   28      MSI-L                 0.357734   \n",
       "4               4  TCGA-5M-AAT6-01A    3      MSI-H                 0.049432   \n",
       "..            ...               ...  ...        ...                      ...   \n",
       "430           430  TCGA-QL-A97D-01A  104        MSS                 0.309643   \n",
       "431           431  TCGA-RU-A8FL-01A  105        MSS                 0.270808   \n",
       "432           432  TCGA-SS-A7HO-01A   82        MSS                 0.408573   \n",
       "433           433  TCGA-T9-A92H-01A  115        MSS                 0.178141   \n",
       "434           434  TCGA-WS-AB45-01A   28      MSI-H                 0.012669   \n",
       "\n",
       "     aneuploidy_score   TMB TP53 KRAS BRAF  ... TUBGCP5 ZNF37BP  SNRPN  \\\n",
       "0                   6   118   WT   WT  SNV  ...  1118.0   894.0  357.0   \n",
       "1                  12    81  SNV  SNV   WT  ...   359.0  2045.0   88.0   \n",
       "2                  13   159  SNV  SNV   WT  ...   662.0  1135.0  956.0   \n",
       "3                  12    72  SNV   WT   WT  ...   544.0   691.0  783.0   \n",
       "4                   2  1828   WT  SNV   WT  ...   439.0   415.0  394.0   \n",
       "..                ...   ...  ...  ...  ...  ...     ...     ...    ...   \n",
       "430                 9   209  SNV  SNV   WT  ...   434.0  1883.0  158.0   \n",
       "431                10   115  SNV   WT   WT  ...   390.0   650.0   27.0   \n",
       "432                15   143  SNV  SNV   WT  ...   822.0  1040.0   91.0   \n",
       "433                 6   150  SNV   WT   WT  ...   533.0   739.0   86.0   \n",
       "434                 0  2437  SNV   WT   WT  ...   924.0   625.0  665.0   \n",
       "\n",
       "     ELMOD3   MFAP3  RWDD2B   TTC5  PDLIM2     BLM  DDX59  \n",
       "0    1180.0   605.0   662.0  560.0   561.0   478.0  703.0  \n",
       "1    1154.0   213.0   695.0  282.0   429.0   204.0  620.0  \n",
       "2    1078.0   550.0   620.0  743.0   559.0   761.0  513.0  \n",
       "3     501.0   537.0   286.0  298.0   286.0  1055.0  618.0  \n",
       "4     552.0   412.0   493.0  358.0   478.0   525.0  291.0  \n",
       "..      ...     ...     ...    ...     ...     ...    ...  \n",
       "430   598.0   494.0   497.0  519.0   705.0   557.0  509.0  \n",
       "431   753.0   182.0   796.0  507.0   104.0   592.0  786.0  \n",
       "432  1135.0  1120.0   522.0  617.0   581.0  1374.0  641.0  \n",
       "433   804.0   618.0   881.0  390.0   495.0   660.0  443.0  \n",
       "434   661.0  2778.0   771.0  705.0  1595.0   503.0  991.0  \n",
       "\n",
       "[435 rows x 9441 columns]"
      ]
     },
     "execution_count": 27,
     "metadata": {},
     "output_type": "execute_result"
    }
   ],
   "source": [
    "data = pd.read_csv(\"merged.csv\")\n",
    "#data"
   ]
  },
  {
   "cell_type": "code",
   "execution_count": 5,
   "id": "46b29d14",
   "metadata": {},
   "outputs": [],
   "source": [
    "X = data.drop(columns = ['msi_status', 'Unnamed: 0', 'Unnamed: 0.1'])\n",
    "y = data['msi_status']\n",
    "le = LabelEncoder()\n",
    "X = X.apply(le.fit_transform)\n",
    "#Test and train set\n",
    "X_train, X_test, y_train, y_test = model_selection.train_test_split(X, y, train_size=0.80, test_size=0.20, random_state=101)\n",
    "#Train set split into train and validation set\n",
    "X_train, X_val, y_train, y_val = model_selection.train_test_split(X_train, y_train, test_size=0.25, random_state=101) # 0.25 x 0.8 = 0.2"
   ]
  },
  {
   "cell_type": "code",
   "execution_count": 6,
   "id": "bbbb4e37",
   "metadata": {},
   "outputs": [
    {
     "name": "stdout",
     "output_type": "stream",
     "text": [
      "Shape of original training data: (261, 9438) (261,)\n",
      "Shape of oversampled training data: (507, 9438) (507,)\n"
     ]
    }
   ],
   "source": [
    "#Oversampling\n",
    "from imblearn.over_sampling import RandomOverSampler\n",
    "\n",
    "# Instantiate the RandomOverSampler\n",
    "oversampler = RandomOverSampler(random_state=42)\n",
    "\n",
    "# Resample the training data\n",
    "X_train_oversampled, y_train_oversampled = oversampler.fit_resample(X_train, y_train)\n",
    "\n",
    "# Print the shape of the resampled data to see the effect\n",
    "print(\"Shape of original training data:\", X_train.shape, y_train.shape)\n",
    "print(\"Shape of oversampled training data:\", X_train_oversampled.shape, y_train_oversampled.shape)"
   ]
  },
  {
   "cell_type": "code",
   "execution_count": 7,
   "id": "ad25d86a",
   "metadata": {},
   "outputs": [],
   "source": [
    "#TRAINING\n",
    "rbf = svm.SVC(kernel='rbf', gamma=0.5, C=0.1).fit(X_train, y_train) #C-regularization param, gamma: kernel coefficient\n",
    "poly = svm.SVC(kernel='poly', degree=1, C=1).fit(X_train, y_train) #degree of polynomial kernel function\n",
    "#oversampled classifiers\n",
    "over_rbf = svm.SVC(kernel='rbf', gamma=0.5, C=1.5).fit(X_train_oversampled, y_train_oversampled) #C-regularization param, gamma: kernel coefficient\n",
    "over_poly = svm.SVC(kernel='poly', degree=1, C=1).fit(X_train_oversampled, y_train_oversampled) #degree of polynomial kernel function"
   ]
  },
  {
   "cell_type": "code",
   "execution_count": 8,
   "id": "6a2aa4f2",
   "metadata": {},
   "outputs": [],
   "source": [
    "#Prediction DO IT ON VALIDATION\n",
    "#prediction for all kernel types\n",
    "poly_pred = poly.predict(X_val)\n",
    "rbf_pred = rbf.predict(X_val)\n",
    "#prediction for oversampled data\n",
    "over_poly_pred = over_poly.predict(X_val)\n",
    "over_rbf_pred = over_rbf.predict(X_val)"
   ]
  },
  {
   "cell_type": "code",
   "execution_count": 9,
   "id": "e22e9602",
   "metadata": {},
   "outputs": [
    {
     "name": "stdout",
     "output_type": "stream",
     "text": [
      "Classification report for polinomial kernel\n",
      "              precision    recall  f1-score   support\n",
      "\n",
      "       MSI-H       0.78      1.00      0.88        14\n",
      "       MSI-L       0.03      0.09      0.05        11\n",
      "         MSS       0.82      0.53      0.65        62\n",
      "\n",
      "    accuracy                           0.55        87\n",
      "   macro avg       0.55      0.54      0.52        87\n",
      "weighted avg       0.72      0.55      0.61        87\n",
      "\n",
      "Classification report for rbf kernel\n",
      "              precision    recall  f1-score   support\n",
      "\n",
      "       MSI-H       0.00      0.00      0.00        14\n",
      "       MSI-L       0.00      0.00      0.00        11\n",
      "         MSS       0.71      1.00      0.83        62\n",
      "\n",
      "    accuracy                           0.71        87\n",
      "   macro avg       0.24      0.33      0.28        87\n",
      "weighted avg       0.51      0.71      0.59        87\n",
      "\n"
     ]
    },
    {
     "name": "stderr",
     "output_type": "stream",
     "text": [
      "C:\\Users\\blank\\anaconda3\\Lib\\site-packages\\sklearn\\metrics\\_classification.py:1509: UndefinedMetricWarning: Precision is ill-defined and being set to 0.0 in labels with no predicted samples. Use `zero_division` parameter to control this behavior.\n",
      "  _warn_prf(average, modifier, f\"{metric.capitalize()} is\", len(result))\n",
      "C:\\Users\\blank\\anaconda3\\Lib\\site-packages\\sklearn\\metrics\\_classification.py:1509: UndefinedMetricWarning: Precision is ill-defined and being set to 0.0 in labels with no predicted samples. Use `zero_division` parameter to control this behavior.\n",
      "  _warn_prf(average, modifier, f\"{metric.capitalize()} is\", len(result))\n",
      "C:\\Users\\blank\\anaconda3\\Lib\\site-packages\\sklearn\\metrics\\_classification.py:1509: UndefinedMetricWarning: Precision is ill-defined and being set to 0.0 in labels with no predicted samples. Use `zero_division` parameter to control this behavior.\n",
      "  _warn_prf(average, modifier, f\"{metric.capitalize()} is\", len(result))\n"
     ]
    }
   ],
   "source": [
    "#Classification report\n",
    "print(\"Classification report for polinomial kernel\")\n",
    "print(metrics.classification_report(y_val, over_poly_pred))\n",
    "print(\"Classification report for rbf kernel\")\n",
    "print(metrics.classification_report(y_val, over_rbf_pred))"
   ]
  },
  {
   "cell_type": "code",
   "execution_count": null,
   "id": "aa15ec34",
   "metadata": {},
   "outputs": [],
   "source": []
  },
  {
   "cell_type": "code",
   "execution_count": 10,
   "id": "aac4859d",
   "metadata": {},
   "outputs": [
    {
     "name": "stdout",
     "output_type": "stream",
     "text": [
      "[1.0, 1.5, 2.0, 2.5, 3.0, 3.5, 4.0, 4.5, 5.0, 5.5, 6.0, 6.5, 7.0, 7.5, 8.0, 8.5, 9.0, 9.5]\n"
     ]
    }
   ],
   "source": [
    "#C value search for rbf and poly kernel\n",
    "Cvalues = [x / 10.0 for x in range(10, 100, 5)]\n",
    "print(Cvalues)\n",
    "\n",
    "listofaccuracypoly = []\n",
    "listofaccuracyrbf = []\n",
    "for i in Cvalues:\n",
    "    model = svm.SVC(kernel='poly', degree=1, C=i).fit(X_train_oversampled, y_train_oversampled)\n",
    "    prediction = model.predict(X_val)\n",
    "    accuracy = accuracy_score(y_val, prediction)\n",
    "    listofaccuracypoly.append(accuracy)\n",
    "    #print({\"Accuracy:\":accuracy, \"C value: \":i})\n",
    "\n",
    "for i in Cvalues:\n",
    "    model = svm.SVC(kernel='rbf', degree=1, C=i).fit(X_train_oversampled, y_train_oversampled)\n",
    "    prediction = model.predict(X_val)\n",
    "    accuracy = accuracy_score(y_val, prediction)\n",
    "    listofaccuracyrbf.append(accuracy)\n",
    "\n",
    "\n",
    "#plt.plot(Cvalues, listofaccuracy)"
   ]
  },
  {
   "cell_type": "code",
   "execution_count": 11,
   "id": "937e0eb8",
   "metadata": {},
   "outputs": [
    {
     "data": {
      "image/png": "[encoded data removed]",
      "text/plain": [
       "<Figure size 640x480 with 1 Axes>"
      ]
     },
     "metadata": {},
     "output_type": "display_data"
    }
   ],
   "source": [
    "plt.plot(Cvalues, listofaccuracyrbf)\n",
    "plt.plot(Cvalues, listofaccuracypoly)\n",
    "plt.xlabel(\"C values\")\n",
    "plt.ylabel(\"Accuracy\")\n",
    "plt.title(\"C parameter search for SVM\")\n",
    "plt.legend(['RBF', \"Polynomial\"])\n",
    "\n",
    "#plt.savefig('C_parameter_search_for_SVM.png')\n",
    "plt.show()"
   ]
  },
  {
   "cell_type": "code",
   "execution_count": null,
   "id": "0d6947cc",
   "metadata": {},
   "outputs": [],
   "source": [
    "#looking for best hyperparameters RBF SVM, C and gamma\n",
    "from sklearn.model_selection import GridSearchCV\n",
    "from sklearn.svm import SVC\n",
    "\n",
    "# Define the parameter grid\n",
    "param_grid = {\n",
    "    'C': [0.1, 1, 10],\n",
    "    'gamma': [1, 0.1, 0.01, 0.001, 0.0001]\n",
    "}\n",
    "\n",
    "# Create an SVM classifier with polynomial kernel\n",
    "svm_classifier = SVC(kernel='rbf')\n",
    "\n",
    "# Perform grid search with cross-validation\n",
    "grid_search = GridSearchCV(svm_classifier, param_grid, cv=5, scoring='accuracy')\n",
    "grid_search.fit(X_train_oversampled, y_train_oversampled)\n",
    "\n",
    "# Get the best hyperparameters\n",
    "best_params = grid_search.best_params_\n",
    "\n",
    "# Train the model with the best hyperparameters\n",
    "best_svm_model = SVC(kernel='rbf', **best_params)\n",
    "best_svm_model.fit(X_train_oversampled, y_train_oversampled)\n",
    "\n",
    "# Evaluate the model on the test set bc just\n",
    "accuracy = best_svm_model.score(X_test, y_test)"
   ]
  },
  {
   "cell_type": "code",
   "execution_count": null,
   "id": "12573a04",
   "metadata": {},
   "outputs": [],
   "source": [
    "print(accuracy)\n",
    "print(best_params)"
   ]
  },
  {
   "cell_type": "code",
   "execution_count": 13,
   "id": "74db1671",
   "metadata": {},
   "outputs": [
    {
     "name": "stdout",
     "output_type": "stream",
     "text": [
      "              precision    recall  f1-score   support\n",
      "\n",
      "       MSI-H       0.00      0.00      0.00        14\n",
      "       MSI-L       0.00      0.00      0.00        11\n",
      "         MSS       0.71      1.00      0.83        62\n",
      "\n",
      "    accuracy                           0.71        87\n",
      "   macro avg       0.24      0.33      0.28        87\n",
      "weighted avg       0.51      0.71      0.59        87\n",
      "\n"
     ]
    },
    {
     "name": "stderr",
     "output_type": "stream",
     "text": [
      "C:\\Users\\blank\\anaconda3\\Lib\\site-packages\\sklearn\\metrics\\_classification.py:1509: UndefinedMetricWarning: Precision is ill-defined and being set to 0.0 in labels with no predicted samples. Use `zero_division` parameter to control this behavior.\n",
      "  _warn_prf(average, modifier, f\"{metric.capitalize()} is\", len(result))\n",
      "C:\\Users\\blank\\anaconda3\\Lib\\site-packages\\sklearn\\metrics\\_classification.py:1509: UndefinedMetricWarning: Precision is ill-defined and being set to 0.0 in labels with no predicted samples. Use `zero_division` parameter to control this behavior.\n",
      "  _warn_prf(average, modifier, f\"{metric.capitalize()} is\", len(result))\n",
      "C:\\Users\\blank\\anaconda3\\Lib\\site-packages\\sklearn\\metrics\\_classification.py:1509: UndefinedMetricWarning: Precision is ill-defined and being set to 0.0 in labels with no predicted samples. Use `zero_division` parameter to control this behavior.\n",
      "  _warn_prf(average, modifier, f\"{metric.capitalize()} is\", len(result))\n"
     ]
    }
   ],
   "source": [
    "#Prediction using C 1 and gamma 1 for rbf kernel\n",
    "#TEST IS GOOD HERE\n",
    "grid_prediction = grid_search.predict(X_test)\n",
    "print(\"Classification report for RBF kernel after grid search\")\n",
    "print(metrics.classification_report(y_test, grid_prediction))"
   ]
  },
  {
   "cell_type": "code",
   "execution_count": 24,
   "id": "e71a657b",
   "metadata": {},
   "outputs": [],
   "source": [
    "#looking for best hyperparameters Polynomial kernel SVM, C and gamma, degree\n",
    "from sklearn.model_selection import GridSearchCV\n",
    "from sklearn.svm import SVC\n",
    "\n",
    "# Define the parameter grid\n",
    "param_grid = {\n",
    "    'C': [0.1, 0.3, 0.5, 1, 10],\n",
    "    'gamma': [1, 0.1, 0.01, 0.001, 0.0001],\n",
    "    'degree': [1]\n",
    "}\n",
    "\n",
    "# Create an SVM classifier with polynomial kernel\n",
    "svm_classifier = SVC(kernel='poly')\n",
    "\n",
    "# Perform grid search with cross-validation\n",
    "grid_search = GridSearchCV(svm_classifier, param_grid, cv=5, scoring='accuracy')\n",
    "grid_search.fit(X_train_oversampled, y_train_oversampled)\n",
    "\n",
    "# Get the best hyperparameters\n",
    "best_params = grid_search.best_params_\n",
    "\n",
    "# Train the model with the best hyperparameters\n",
    "best_svm_model = SVC(kernel='poly', **best_params)\n",
    "best_svm_model.fit(X_train_oversampled, y_train_oversampled)\n",
    "\n",
    "# Evaluate the model\n",
    "accuracy = best_svm_model.score(X_test, y_test)"
   ]
  },
  {
   "cell_type": "code",
   "execution_count": 25,
   "id": "e89486fb",
   "metadata": {},
   "outputs": [
    {
     "name": "stdout",
     "output_type": "stream",
     "text": [
      "0.735632183908046\n",
      "{'C': 0.1, 'degree': 1, 'gamma': 1}\n"
     ]
    }
   ],
   "source": [
    "print(accuracy)\n",
    "print(best_params)"
   ]
  },
  {
   "cell_type": "code",
   "execution_count": 30,
   "id": "d37ba553",
   "metadata": {},
   "outputs": [
    {
     "name": "stdout",
     "output_type": "stream",
     "text": [
      "Classification report for Polynomial kernel after grid search\n",
      "              precision    recall  f1-score   support\n",
      "\n",
      "       MSI-H       0.92      0.86      0.89        14\n",
      "       MSI-L       0.08      0.09      0.09        11\n",
      "         MSS       0.82      0.82      0.82        62\n",
      "\n",
      "    accuracy                           0.74        87\n",
      "   macro avg       0.61      0.59      0.60        87\n",
      "weighted avg       0.75      0.74      0.74        87\n",
      "\n",
      "SVC(C=0.1, degree=1, gamma=1, kernel='poly')\n"
     ]
    }
   ],
   "source": [
    "#Prediction using {'C': 0.1, 'degree': 1, 'gamma': 1} for polynomial kernel with 0.735632183908046 accuracy\n",
    "grid_prediction = grid_search.predict(X_test)\n",
    "print(\"Classification report for Polynomial kernel after grid search\")\n",
    "print(metrics.classification_report(y_test, grid_prediction))\n",
    "print(best_svm_model)"
   ]
  },
  {
   "cell_type": "code",
   "execution_count": 31,
   "id": "ae157585",
   "metadata": {},
   "outputs": [
    {
     "data": {
      "image/png": "[encoded data removed]",
      "text/plain": [
       "<Figure size 1300x500 with 1 Axes>"
      ]
     },
     "metadata": {},
     "output_type": "display_data"
    }
   ],
   "source": [
    "#Feature importance for polynomial kernel with permutation importance\n",
    "from sklearn.inspection import permutation_importance\n",
    "perm_importance = permutation_importance(best_svm_model, X_val, y_val)\n",
    "# Making the sum of feature importance being equal to 1.0,\n",
    "# so feature importance can be understood as percentage\n",
    "perm_importance_normalized = perm_importance.importances_mean/perm_importance.importances_mean.sum()\n",
    "# Feature's name (considering your X a DataFrame)\n",
    "feature_names = X.columns\n",
    "features = np.array(feature_names)\n",
    "# Sort to plot in order of importance\n",
    "sorted_idx = perm_importance_normalized.argsort()\n",
    "\n",
    "# Plotting\n",
    "plt.figure(figsize=(13,5))\n",
    "plt.title('Feature Importance',fontsize=20)\n",
    "plt.barh(features[sorted_idx], perm_importance_normalized[sorted_idx], color='b', align='center')\n",
    "plt.xlabel('Relative Importance', fontsize=15)\n",
    "plt.xticks(fontsize=15)\n",
    "plt.yticks(fontsize=15)\n",
    "\n",
    "for index, value in enumerate(perm_importance_normalized[sorted_idx]):\n",
    "    plt.text(value, index,\n",
    "             str(round(value,2)), fontsize=15)\n",
    "\n",
    "plt.show()\n"
   ]
  },
  {
   "cell_type": "code",
   "execution_count": null,
   "id": "4b40ca1c",
   "metadata": {},
   "outputs": [],
   "source": []
  },
  {
   "cell_type": "code",
   "execution_count": null,
   "id": "4e89cf99",
   "metadata": {},
   "outputs": [],
   "source": [
    "#prediction \n",
    "poly_pred = poly.predict(X_test)\n",
    "rbf_pred = rbf.predict(X_test)\n",
    "#prediction for oversampled data\n",
    "over_poly_pred = over_poly.predict(X_test)\n",
    "over_rbf_pred = over_rbf.predict(X_test)"
   ]
  },
  {
   "cell_type": "code",
   "execution_count": 83,
   "id": "0944c048",
   "metadata": {},
   "outputs": [
    {
     "name": "stdout",
     "output_type": "stream",
     "text": [
      "Accuracy (Polynomial Kernel):  82.76\n",
      "F1 (Polynomial Kernel):  76.98\n",
      "Accuracy (RBF Kernel):  71.26\n",
      "F1 (RBF Kernel):  59.31\n"
     ]
    }
   ],
   "source": [
    "#the accuracy and f1 scores for SVM with Polynomial kernel\n",
    "#For the f1 score, it calculates the harmonic mean between\n",
    "#precision and recall, and both depend on the false positive and false negative.\n",
    "#So, it’s useful to calculate the f1 score when the data set isn’t balanced.\n",
    "#For the accuracy score, it shows the percentage of the true positive and true negative to all data points.\n",
    "#So, it’s useful when the data set is balanced.\n",
    "poly_accuracy = accuracy_score(y_test, poly_pred)\n",
    "poly_f1 = f1_score(y_test, poly_pred, average='weighted')\n",
    "print('Accuracy (Polynomial Kernel): ', \"%.2f\" % (poly_accuracy*100))\n",
    "print('F1 (Polynomial Kernel): ', \"%.2f\" % (poly_f1*100))\n",
    "rbf_accuracy = accuracy_score(y_test, rbf_pred)\n",
    "rbf_f1 = f1_score(y_test, rbf_pred, average='weighted')\n",
    "print('Accuracy (RBF Kernel): ', \"%.2f\" % (rbf_accuracy*100))\n",
    "print('F1 (RBF Kernel): ', \"%.2f\" % (rbf_f1*100))"
   ]
  },
  {
   "cell_type": "code",
   "execution_count": 84,
   "id": "d21ea50e",
   "metadata": {},
   "outputs": [
    {
     "name": "stdout",
     "output_type": "stream",
     "text": [
      "Accuracy (Polynomial Kernel):  57.47\n",
      "F1 (Polynomial Kernel):  62.85\n",
      "Accuracy (RBF Kernel):  71.26\n",
      "F1 (RBF Kernel):  59.31\n"
     ]
    }
   ],
   "source": [
    "#Accuracy and F1 for oversampled data\n",
    "poly_accuracy = accuracy_score(y_test, over_poly_pred)\n",
    "poly_f1 = f1_score(y_test, over_poly_pred, average='weighted')\n",
    "print('Accuracy (Polynomial Kernel): ', \"%.2f\" % (poly_accuracy*100))\n",
    "print('F1 (Polynomial Kernel): ', \"%.2f\" % (poly_f1*100))\n",
    "rbf_accuracy = accuracy_score(y_test, over_rbf_pred)\n",
    "rbf_f1 = f1_score(y_test, over_rbf_pred, average='weighted')\n",
    "print('Accuracy (RBF Kernel): ', \"%.2f\" % (rbf_accuracy*100))\n",
    "print('F1 (RBF Kernel): ', \"%.2f\" % (rbf_f1*100))"
   ]
  },
  {
   "cell_type": "code",
   "execution_count": 89,
   "id": "5970c33d",
   "metadata": {},
   "outputs": [
    {
     "data": {
      "image/png": "[encoded data removed]",
      "text/plain": [
       "<Figure size 640x480 with 2 Axes>"
      ]
     },
     "metadata": {},
     "output_type": "display_data"
    }
   ],
   "source": [
    "#Confusion mx for rbf kernel oversampled\n",
    "conf_mx = metrics.confusion_matrix(y_test, over_rbf_pred)\n",
    "cm_display = metrics.ConfusionMatrixDisplay(confusion_matrix = conf_mx)\n",
    "cm_display.plot()\n",
    "plt.title(\"RBF kernel confusion matrix\")\n",
    "\n",
    "#plt.savefig('RBF kernel confusion matrix.png')\n",
    "plt.show()"
   ]
  },
  {
   "cell_type": "code",
   "execution_count": 88,
   "id": "f16b5c70",
   "metadata": {},
   "outputs": [
    {
     "data": {
      "image/png": "[encoded data removed]",
      "text/plain": [
       "<Figure size 640x480 with 2 Axes>"
      ]
     },
     "metadata": {},
     "output_type": "display_data"
    }
   ],
   "source": [
    "#confusion mx for polynomial oversampled \n",
    "conf_mx = metrics.confusion_matrix(y_test, over_poly_pred)\n",
    "cm_display = metrics.ConfusionMatrixDisplay(confusion_matrix = conf_mx)\n",
    "cm_display.plot()\n",
    "\n",
    "plt.title(\"Polynomial kernel confusion matrix\")\n",
    "#plt.savefig('Polynomial kernel confusion matrix.png')\n",
    "plt.show()"
   ]
  },
  {
   "cell_type": "code",
   "execution_count": 125,
   "id": "cdfaced0",
   "metadata": {},
   "outputs": [
    {
     "name": "stderr",
     "output_type": "stream",
     "text": [
      "C:\\Users\\blank\\anaconda3\\Lib\\site-packages\\sklearn\\metrics\\_classification.py:1469: UndefinedMetricWarning: Precision is ill-defined and being set to 0.0 in labels with no predicted samples. Use `zero_division` parameter to control this behavior.\n",
      "  _warn_prf(average, modifier, msg_start, len(result))\n",
      "C:\\Users\\blank\\anaconda3\\Lib\\site-packages\\sklearn\\metrics\\_classification.py:1521: UserWarning: Note that pos_label (set to 0) is ignored when average != 'binary' (got 'weighted'). You may use labels=[pos_label] to specify a single positive class.\n",
      "  warnings.warn(\n"
     ]
    }
   ],
   "source": [
    "#metrics for polynomial kernel svm\n",
    "Accuracy = metrics.accuracy_score(y_test, poly_pred)\n",
    "Validation = metrics.accuracy_score(y_val, poly_pred)\n",
    "Precision = metrics.precision_score(y_test, poly_pred, average = 'weighted')\n",
    "Sensitivity_recall = metrics.recall_score(y_test, poly_pred, average = 'weighted')\n",
    "Specificity = metrics.recall_score(y_test, poly_pred, average = 'weighted', pos_label=0)\n",
    "F1_score = metrics.f1_score(y_test, poly_pred, average = 'weighted')\n",
    "#AUC = metrics.roc_auc_score(y_test, poly_pred, average = 'weighted')\n",
    "#print({\"Accuracy\":Accuracy,\"Precision\":Precision,\"Sensitivity_recall\":Sensitivity_recall,\"Specificity\":Specificity,\"F1_score\":F1_score, \"AUC\":AUC})"
   ]
  },
  {
   "cell_type": "code",
   "execution_count": 126,
   "id": "8752560a",
   "metadata": {},
   "outputs": [
    {
     "name": "stdout",
     "output_type": "stream",
     "text": [
      "{'Accuracy': 0.8390804597701149, 'Validation': 0.6206896551724138}\n"
     ]
    }
   ],
   "source": [
    "print({'Accuracy':Accuracy, 'Validation':Validation})"
   ]
  },
  {
   "cell_type": "code",
   "execution_count": null,
   "id": "6e1a4f9f",
   "metadata": {},
   "outputs": [],
   "source": []
  }
 ],
 "metadata": {
  "kernelspec": {
   "display_name": "Python 3 (ipykernel)",
   "language": "python",
   "name": "python3"
  },
  "language_info": {
   "codemirror_mode": {
    "name": "ipython",
    "version": 3
   },
   "file_extension": ".py",
   "mimetype": "text/x-python",
   "name": "python",
   "nbconvert_exporter": "python",
   "pygments_lexer": "ipython3",
   "version": "3.11.5"
  }
 },
 "nbformat": 4,
 "nbformat_minor": 5
}
